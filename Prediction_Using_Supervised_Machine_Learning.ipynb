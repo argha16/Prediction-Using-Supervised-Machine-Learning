{
 "cells": [
  {
   "cell_type": "markdown",
   "id": "90fb19ca",
   "metadata": {},
   "source": [
    "<h1>Prediction Using Supervised Machine Learning</h1>"
   ]
  },
  {
   "cell_type": "markdown",
   "id": "39ebecf0",
   "metadata": {},
   "source": [
    "<h2>Author-Argha Das</h2>"
   ]
  },
  {
   "cell_type": "markdown",
   "id": "511a8903",
   "metadata": {},
   "source": [
    "<h3>Importing Librery</h3>"
   ]
  },
  {
   "cell_type": "code",
   "execution_count": 1,
   "id": "85d7c40a",
   "metadata": {},
   "outputs": [],
   "source": [
    "import numpy as np\n",
    "import pandas as pd \n",
    "import matplotlib.pyplot as plt\n",
    "import seaborn as sns\n",
    "from sklearn.model_selection import train_test_split\n",
    "from sklearn.linear_model import LinearRegression\n",
    "from sklearn.metrics import mean_absolute_error"
   ]
  },
  {
   "cell_type": "markdown",
   "id": "11a7f111",
   "metadata": {},
   "source": [
    "<h3>Importing Dataset</h3>"
   ]
  },
  {
   "cell_type": "code",
   "execution_count": 2,
   "id": "d21ef35a",
   "metadata": {},
   "outputs": [],
   "source": [
    "df_student=pd.read_csv('Student_score.csv')"
   ]
  },
  {
   "cell_type": "code",
   "execution_count": 4,
   "id": "42590c7f",
   "metadata": {},
   "outputs": [
    {
     "data": {
      "text/html": [
       "<div>\n",
       "<style scoped>\n",
       "    .dataframe tbody tr th:only-of-type {\n",
       "        vertical-align: middle;\n",
       "    }\n",
       "\n",
       "    .dataframe tbody tr th {\n",
       "        vertical-align: top;\n",
       "    }\n",
       "\n",
       "    .dataframe thead th {\n",
       "        text-align: right;\n",
       "    }\n",
       "</style>\n",
       "<table border=\"1\" class=\"dataframe\">\n",
       "  <thead>\n",
       "    <tr style=\"text-align: right;\">\n",
       "      <th></th>\n",
       "      <th>Hours</th>\n",
       "      <th>Scores</th>\n",
       "    </tr>\n",
       "  </thead>\n",
       "  <tbody>\n",
       "    <tr>\n",
       "      <th>0</th>\n",
       "      <td>2.5</td>\n",
       "      <td>21</td>\n",
       "    </tr>\n",
       "    <tr>\n",
       "      <th>1</th>\n",
       "      <td>5.1</td>\n",
       "      <td>47</td>\n",
       "    </tr>\n",
       "    <tr>\n",
       "      <th>2</th>\n",
       "      <td>3.2</td>\n",
       "      <td>27</td>\n",
       "    </tr>\n",
       "    <tr>\n",
       "      <th>3</th>\n",
       "      <td>8.5</td>\n",
       "      <td>75</td>\n",
       "    </tr>\n",
       "    <tr>\n",
       "      <th>4</th>\n",
       "      <td>3.5</td>\n",
       "      <td>30</td>\n",
       "    </tr>\n",
       "    <tr>\n",
       "      <th>5</th>\n",
       "      <td>1.5</td>\n",
       "      <td>20</td>\n",
       "    </tr>\n",
       "    <tr>\n",
       "      <th>6</th>\n",
       "      <td>9.2</td>\n",
       "      <td>88</td>\n",
       "    </tr>\n",
       "    <tr>\n",
       "      <th>7</th>\n",
       "      <td>5.5</td>\n",
       "      <td>60</td>\n",
       "    </tr>\n",
       "    <tr>\n",
       "      <th>8</th>\n",
       "      <td>8.3</td>\n",
       "      <td>81</td>\n",
       "    </tr>\n",
       "    <tr>\n",
       "      <th>9</th>\n",
       "      <td>2.7</td>\n",
       "      <td>25</td>\n",
       "    </tr>\n",
       "  </tbody>\n",
       "</table>\n",
       "</div>"
      ],
      "text/plain": [
       "   Hours  Scores\n",
       "0    2.5      21\n",
       "1    5.1      47\n",
       "2    3.2      27\n",
       "3    8.5      75\n",
       "4    3.5      30\n",
       "5    1.5      20\n",
       "6    9.2      88\n",
       "7    5.5      60\n",
       "8    8.3      81\n",
       "9    2.7      25"
      ]
     },
     "execution_count": 4,
     "metadata": {},
     "output_type": "execute_result"
    }
   ],
   "source": [
    "df_student.head(10)"
   ]
  },
  {
   "cell_type": "markdown",
   "id": "d0075a22",
   "metadata": {},
   "source": [
    "<h3>Check the Null Value</h3>"
   ]
  },
  {
   "cell_type": "code",
   "execution_count": 5,
   "id": "d6f21625",
   "metadata": {},
   "outputs": [
    {
     "data": {
      "text/plain": [
       "Hours     0\n",
       "Scores    0\n",
       "dtype: int64"
      ]
     },
     "execution_count": 5,
     "metadata": {},
     "output_type": "execute_result"
    }
   ],
   "source": [
    "df_student.isnull().sum()"
   ]
  },
  {
   "cell_type": "markdown",
   "id": "c31fe0be",
   "metadata": {},
   "source": [
    "<h4>Observation</h4>\n",
    "<p>There is no Null Value in the Dataset ,We can proceed with visualization</p> "
   ]
  },
  {
   "cell_type": "markdown",
   "id": "0043fc07",
   "metadata": {},
   "source": [
    "<h3>Visualize Marks vs Study Hrs using scatter plot</h3>"
   ]
  },
  {
   "cell_type": "code",
   "execution_count": 6,
   "id": "0b69cc6e",
   "metadata": {},
   "outputs": [
    {
     "data": {
      "image/png": "[encoded data removed]",
      "text/plain": [
       "<Figure size 432x288 with 1 Axes>"
      ]
     },
     "metadata": {},
     "output_type": "display_data"
    }
   ],
   "source": [
    "sns.set_style('darkgrid')\n",
    "sns.scatterplot(y=df_student['Scores'] , x=df_student['Hours'])\n",
    "plt.title('Marks VS Study Hrs', size=20)\n",
    "plt.ylabel('Marks Percentage', size=12)\n",
    "plt.xlabel('Study Hours', size=12)\n",
    "plt.show()\n"
   ]
  },
  {
   "cell_type": "markdown",
   "id": "172c19eb",
   "metadata": {},
   "source": [
    "<h4>Observation</h4>\n",
    "<p>From this Scatter plot  it looks correlated between Marks percentage and Study Hours</p>"
   ]
  },
  {
   "cell_type": "markdown",
   "id": "014964cc",
   "metadata": {},
   "source": [
    "<h3>Visualize Regression plot to confirm correlation between Marks and Study hrs</h3>"
   ]
  },
  {
   "cell_type": "code",
   "execution_count": 7,
   "id": "c9e4ea61",
   "metadata": {},
   "outputs": [
    {
     "data": {
      "image/png": "[encoded data removed]",
      "text/plain": [
       "<Figure size 432x288 with 1 Axes>"
      ]
     },
     "metadata": {},
     "output_type": "display_data"
    },
    {
     "name": "stdout",
     "output_type": "stream",
     "text": [
      "           Hours    Scores\n",
      "Hours   1.000000  0.976191\n",
      "Scores  0.976191  1.000000\n"
     ]
    }
   ],
   "source": [
    "sns.regplot(y=df_student['Scores'] , x=df_student['Hours'])\n",
    "plt.title('Marks VS Study Hrs', size=20)\n",
    "plt.ylabel('Marks Percentage', size=12)\n",
    "plt.xlabel('Study Hours', size=12)\n",
    "plt.show()\n",
    "print(df_student.corr())"
   ]
  },
  {
   "cell_type": "markdown",
   "id": "e8679f80",
   "metadata": {},
   "source": [
    "<h4>Observation</h4>\n",
    "<p>It is confirmed that the variables are positively correlated</p>"
   ]
  },
  {
   "cell_type": "markdown",
   "id": "8f5b97de",
   "metadata": {},
   "source": [
    "<h2>Training the Model</h2>"
   ]
  },
  {
   "cell_type": "markdown",
   "id": "79103cab",
   "metadata": {},
   "source": [
    "<h3>Splitting the Data</h3>"
   ]
  },
  {
   "cell_type": "code",
   "execution_count": 27,
   "id": "1a872921",
   "metadata": {},
   "outputs": [],
   "source": [
    "X=df_student.iloc[:,:-1].values\n",
    "y=df_student.iloc[:,1].values\n",
    "\n",
    "#splitting the data into two \n",
    "train_X,val_X,train_y,val_y=train_test_split(X,y,random_state=0)"
   ]
  },
  {
   "cell_type": "markdown",
   "id": "f95db5e1",
   "metadata": {},
   "source": [
    "<h3>Fitting the Data into the model</h3>"
   ]
  },
  {
   "cell_type": "code",
   "execution_count": 28,
   "id": "e3507ec6",
   "metadata": {},
   "outputs": [
    {
     "name": "stdout",
     "output_type": "stream",
     "text": [
      "__________Model Trained__________\n"
     ]
    }
   ],
   "source": [
    "regression = LinearRegression()\n",
    "regression.fit(train_X,train_y)\n",
    "print(\"__________Model Trained__________\")"
   ]
  },
  {
   "cell_type": "markdown",
   "id": "d355d989",
   "metadata": {},
   "source": [
    "<h3>Predicting the Percentage of Marks</h3>"
   ]
  },
  {
   "cell_type": "code",
   "execution_count": 29,
   "id": "c017b6d2",
   "metadata": {},
   "outputs": [
    {
     "data": {
      "text/html": [
       "<div>\n",
       "<style scoped>\n",
       "    .dataframe tbody tr th:only-of-type {\n",
       "        vertical-align: middle;\n",
       "    }\n",
       "\n",
       "    .dataframe tbody tr th {\n",
       "        vertical-align: top;\n",
       "    }\n",
       "\n",
       "    .dataframe thead th {\n",
       "        text-align: right;\n",
       "    }\n",
       "</style>\n",
       "<table border=\"1\" class=\"dataframe\">\n",
       "  <thead>\n",
       "    <tr style=\"text-align: right;\">\n",
       "      <th></th>\n",
       "      <th>Hours</th>\n",
       "      <th>Predicted Marks</th>\n",
       "    </tr>\n",
       "  </thead>\n",
       "  <tbody>\n",
       "    <tr>\n",
       "      <th>0</th>\n",
       "      <td>1.5</td>\n",
       "      <td>16.844722</td>\n",
       "    </tr>\n",
       "    <tr>\n",
       "      <th>1</th>\n",
       "      <td>3.2</td>\n",
       "      <td>33.745575</td>\n",
       "    </tr>\n",
       "    <tr>\n",
       "      <th>2</th>\n",
       "      <td>7.4</td>\n",
       "      <td>75.500624</td>\n",
       "    </tr>\n",
       "    <tr>\n",
       "      <th>3</th>\n",
       "      <td>2.5</td>\n",
       "      <td>26.786400</td>\n",
       "    </tr>\n",
       "    <tr>\n",
       "      <th>4</th>\n",
       "      <td>5.9</td>\n",
       "      <td>60.588106</td>\n",
       "    </tr>\n",
       "    <tr>\n",
       "      <th>5</th>\n",
       "      <td>3.8</td>\n",
       "      <td>39.710582</td>\n",
       "    </tr>\n",
       "    <tr>\n",
       "      <th>6</th>\n",
       "      <td>1.9</td>\n",
       "      <td>20.821393</td>\n",
       "    </tr>\n",
       "  </tbody>\n",
       "</table>\n",
       "</div>"
      ],
      "text/plain": [
       "   Hours  Predicted Marks\n",
       "0    1.5        16.844722\n",
       "1    3.2        33.745575\n",
       "2    7.4        75.500624\n",
       "3    2.5        26.786400\n",
       "4    5.9        60.588106\n",
       "5    3.8        39.710582\n",
       "6    1.9        20.821393"
      ]
     },
     "execution_count": 29,
     "metadata": {},
     "output_type": "execute_result"
    }
   ],
   "source": [
    "predict_y = regression.predict(val_X)\n",
    "prediction = pd.DataFrame({'Hours': [i[0] for i in val_X], 'Predicted Marks': [k for k in predict_y]})\n",
    "prediction"
   ]
  },
  {
   "cell_type": "markdown",
   "id": "049d842f",
   "metadata": {},
   "source": [
    "<h3>Compare the Predicted Marks with the Actual Marks</h3>"
   ]
  },
  {
   "cell_type": "code",
   "execution_count": 36,
   "id": "a196cd0a",
   "metadata": {},
   "outputs": [
    {
     "data": {
      "text/html": [
       "<div>\n",
       "<style scoped>\n",
       "    .dataframe tbody tr th:only-of-type {\n",
       "        vertical-align: middle;\n",
       "    }\n",
       "\n",
       "    .dataframe tbody tr th {\n",
       "        vertical-align: top;\n",
       "    }\n",
       "\n",
       "    .dataframe thead th {\n",
       "        text-align: right;\n",
       "    }\n",
       "</style>\n",
       "<table border=\"1\" class=\"dataframe\">\n",
       "  <thead>\n",
       "    <tr style=\"text-align: right;\">\n",
       "      <th></th>\n",
       "      <th>Actual Marks</th>\n",
       "      <th>Predicted Marks</th>\n",
       "    </tr>\n",
       "  </thead>\n",
       "  <tbody>\n",
       "    <tr>\n",
       "      <th>0</th>\n",
       "      <td>20</td>\n",
       "      <td>16.844722</td>\n",
       "    </tr>\n",
       "    <tr>\n",
       "      <th>1</th>\n",
       "      <td>27</td>\n",
       "      <td>33.745575</td>\n",
       "    </tr>\n",
       "    <tr>\n",
       "      <th>2</th>\n",
       "      <td>69</td>\n",
       "      <td>75.500624</td>\n",
       "    </tr>\n",
       "    <tr>\n",
       "      <th>3</th>\n",
       "      <td>30</td>\n",
       "      <td>26.786400</td>\n",
       "    </tr>\n",
       "    <tr>\n",
       "      <th>4</th>\n",
       "      <td>62</td>\n",
       "      <td>60.588106</td>\n",
       "    </tr>\n",
       "    <tr>\n",
       "      <th>5</th>\n",
       "      <td>35</td>\n",
       "      <td>39.710582</td>\n",
       "    </tr>\n",
       "    <tr>\n",
       "      <th>6</th>\n",
       "      <td>24</td>\n",
       "      <td>20.821393</td>\n",
       "    </tr>\n",
       "  </tbody>\n",
       "</table>\n",
       "</div>"
      ],
      "text/plain": [
       "   Actual Marks  Predicted Marks\n",
       "0            20        16.844722\n",
       "1            27        33.745575\n",
       "2            69        75.500624\n",
       "3            30        26.786400\n",
       "4            62        60.588106\n",
       "5            35        39.710582\n",
       "6            24        20.821393"
      ]
     },
     "execution_count": 36,
     "metadata": {},
     "output_type": "execute_result"
    }
   ],
   "source": [
    "compare_Marks = pd.DataFrame({'Actual Marks': val_y, 'Predicted Marks': predict_y})\n",
    "compare_Marks"
   ]
  },
  {
   "cell_type": "markdown",
   "id": "540e9534",
   "metadata": {},
   "source": [
    "<h3>Visualization with Scatter plot for  Predicted Marks VS Actual Marks</h3>"
   ]
  },
  {
   "cell_type": "code",
   "execution_count": 37,
   "id": "40791ccb",
   "metadata": {},
   "outputs": [
    {
     "data": {
      "image/png": "[encoded data removed]",
      "text/plain": [
       "<Figure size 432x288 with 1 Axes>"
      ]
     },
     "metadata": {},
     "output_type": "display_data"
    }
   ],
   "source": [
    "plt.scatter(x=val_X,y=val_y,color='green')\n",
    "plt.plot(val_X,predict_y,color='red')\n",
    "plt.title('Predicted Marks VS Actual Marks', size=20)\n",
    "plt.ylabel('Marks Percentage' , size=12)\n",
    "plt.xlabel('Study Hours' , size=12)\n",
    "plt.show()"
   ]
  },
  {
   "cell_type": "markdown",
   "id": "61ba88ee",
   "metadata": {},
   "source": [
    "<h3>Find Mean Absolute Error</h3>"
   ]
  },
  {
   "cell_type": "code",
   "execution_count": 40,
   "id": "199118b2",
   "metadata": {},
   "outputs": [
    {
     "name": "stdout",
     "output_type": "stream",
     "text": [
      "Mean Absolute Error is = 4.130879918502482\n"
     ]
    }
   ],
   "source": [
    "print('Mean Absolute Error is =',mean_absolute_error(val_y,predict_y))"
   ]
  },
  {
   "cell_type": "markdown",
   "id": "9814bf69",
   "metadata": {},
   "source": [
    "<h3>What will be the predicted score of a student if he/she studies for 9.25 hrs/day ?</h3>"
   ]
  },
  {
   "cell_type": "code",
   "execution_count": 41,
   "id": "3d9946e8",
   "metadata": {},
   "outputs": [
    {
     "name": "stdout",
     "output_type": "stream",
     "text": [
      "Score = 93.893\n"
     ]
    }
   ],
   "source": [
    "hours = [9.25]\n",
    "ans = regression.predict([hours])\n",
    "print(\"Score = {}\".format(round(ans[0],3)))"
   ]
  },
  {
   "cell_type": "markdown",
   "id": "454b0891",
   "metadata": {},
   "source": [
    "<h3>Observation</h3>\n",
    "<p>According to the regression model if a student studies for 9.25 hours a day he/she is likely to score 93.89 marks.</p>"
   ]
  },
  {
   "cell_type": "code",
   "execution_count": null,
   "id": "18206116",
   "metadata": {},
   "outputs": [],
   "source": []
  }
 ],
 "metadata": {
  "kernelspec": {
   "display_name": "Python 3 (ipykernel)",
   "language": "python",
   "name": "python3"
  },
  "language_info": {
   "codemirror_mode": {
    "name": "ipython",
    "version": 3
   },
   "file_extension": ".py",
   "mimetype": "text/x-python",
   "name": "python",
   "nbconvert_exporter": "python",
   "pygments_lexer": "ipython3",
   "version": "3.9.7"
  }
 },
 "nbformat": 4,
 "nbformat_minor": 5
}
